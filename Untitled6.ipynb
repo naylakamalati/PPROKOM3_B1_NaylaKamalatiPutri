{
  "cells": [
    {
      "cell_type": "markdown",
      "metadata": {
        "id": "view-in-github",
        "colab_type": "text"
      },
      "source": [
        "<a href=\"https://colab.research.google.com/github/naylakamalati/PPROKOM7_B1_NaylaKamalatiPutri/blob/main/Untitled6.ipynb\" target=\"_parent\"><img src=\"https://colab.research.google.com/assets/colab-badge.svg\" alt=\"Open In Colab\"/></a>"
      ]
    },
    {
      "cell_type": "code",
      "execution_count": null,
      "metadata": {
        "colab": {
          "base_uri": "https://localhost:8080/"
        },
        "id": "4lAC8KyOuauv",
        "outputId": "00543502-e057-422e-fce2-e90b9f9bd477"
      },
      "outputs": [
        {
          "name": "stdout",
          "output_type": "stream",
          "text": [
            "Budi\n"
          ]
        }
      ],
      "source": [
        "siswa = [\"Budi\", \"Charlie\", \"Erlangga\"]\n",
        "print(siswa[0])"
      ]
    },
    {
      "cell_type": "code",
      "execution_count": null,
      "metadata": {
        "colab": {
          "base_uri": "https://localhost:8080/"
        },
        "id": "VW9nPddHutKf",
        "outputId": "6ee41a18-027e-4a3f-bb6f-fb207b1a33e8"
      },
      "outputs": [
        {
          "name": "stdout",
          "output_type": "stream",
          "text": [
            "Angga\n"
          ]
        }
      ],
      "source": [
        "siswa = [\"Budi\", \"Charlie\", \"Erlangga\"]\n",
        "siswa[0] = \"Angga\"\n",
        "print(siswa[0])"
      ]
    },
    {
      "cell_type": "code",
      "execution_count": null,
      "metadata": {
        "colab": {
          "base_uri": "https://localhost:8080/"
        },
        "id": "cE2GFvj7vIvw",
        "outputId": "f107ac24-c527-44b6-807a-51825c7a7d3b"
      },
      "outputs": [
        {
          "name": "stdout",
          "output_type": "stream",
          "text": [
            "3\n"
          ]
        }
      ],
      "source": [
        "siswa = [\"Budi\", \"Charlie\", \"Erlangga\"]\n",
        "total = len(siswa)\n",
        "print(total)"
      ]
    },
    {
      "cell_type": "code",
      "execution_count": null,
      "metadata": {
        "colab": {
          "base_uri": "https://localhost:8080/"
        },
        "id": "Lliys623vgRY",
        "outputId": "28174f9e-a3a2-4d77-a7d7-4973e9a5700a"
      },
      "outputs": [
        {
          "name": "stdout",
          "output_type": "stream",
          "text": [
            "Budi\n",
            "Charlie\n",
            "Erlangga\n"
          ]
        }
      ],
      "source": [
        "siswa = [\"Budi\", \"Charlie\", \"Erlangga\"]\n",
        "for data in siswa:\n",
        "  print(data)"
      ]
    },
    {
      "cell_type": "code",
      "execution_count": null,
      "metadata": {
        "colab": {
          "base_uri": "https://localhost:8080/"
        },
        "id": "qgP3_Wf5v0_U",
        "outputId": "e2ffcacd-e1c5-4452-db80-0cef26a8a0d4"
      },
      "outputs": [
        {
          "name": "stdout",
          "output_type": "stream",
          "text": [
            "['Budi', 'Charlie', 'Erlangga', 'Farel']\n"
          ]
        }
      ],
      "source": [
        "siswa = [\"Budi\", \"Charlie\", \"Erlangga\"]\n",
        "siswa.append(\"Farel\")\n",
        "print(siswa)"
      ]
    },
    {
      "cell_type": "code",
      "execution_count": null,
      "metadata": {
        "colab": {
          "base_uri": "https://localhost:8080/"
        },
        "id": "KjXEcY3HwCk3",
        "outputId": "0140c3b1-fe91-4697-873e-3fa1c3449217"
      },
      "outputs": [
        {
          "name": "stdout",
          "output_type": "stream",
          "text": [
            "['Budi', 'Erlangga']\n"
          ]
        }
      ],
      "source": [
        "siswa = [\"Budi\", \"Charlie\", \"Erlangga\"]\n",
        "siswa.pop(1)\n",
        "print(siswa)"
      ]
    },
    {
      "cell_type": "code",
      "execution_count": null,
      "metadata": {
        "colab": {
          "base_uri": "https://localhost:8080/"
        },
        "id": "GAF2vYBjwQ_6",
        "outputId": "36991735-5708-43a4-c296-124a9b9e59c0"
      },
      "outputs": [
        {
          "name": "stdout",
          "output_type": "stream",
          "text": [
            "['Charlie', 'Erlangga']\n"
          ]
        }
      ],
      "source": [
        "siswa = [\"Budi\", \"Charlie\", \"Erlangga\"]\n",
        "siswa.remove(\"Budi\")\n",
        "print(siswa)"
      ]
    },
    {
      "cell_type": "code",
      "execution_count": null,
      "metadata": {
        "id": "y17BkmBDwv_F"
      },
      "outputs": [],
      "source": [
        "#pendeklarasian_array\n",
        "buku = []\n",
        "\n",
        "#fungsi_ShowData\n",
        "def show_data():\n",
        "  if (len(buku)) <=0 :\n",
        "    print (\"Belum Ada Data\")\n",
        "  else:\n",
        "    for indeks in range (len(buku)):\n",
        "      print(\"[%d] %s\" % (indeks, buku[indeks]))\n",
        "\n",
        "#fungsi_InsertData\n",
        "def insert_data():\n",
        "  buku_baru = input(\"Judul Buku: \")\n",
        "  buku.append(buku_baru)\n",
        "\n",
        "#fungsi_EditData\n",
        "  def edit_data():\n",
        "    show_data()\n",
        "    indeks = int(input(\"Inputkan ID buku: \"))\n",
        "    if (indeks > len(buku)):\n",
        "      print (\"ID Salah\")\n",
        "    else:\n",
        "      judul_baru = input(\"Judul baru: \")\n",
        "      buku[indeks] = judul_baru\n",
        "\n",
        " #fungsi_DeleteData\n",
        "  def delete_data():\n",
        "    show_data()\n",
        "    indeks = int(input(\"Inputkan ID buku: \"))\n",
        "    if(indeks > len(buku)):\n",
        "      print(\"ID Salah\")\n",
        "    else:\n",
        "      buku. remove(buku[indeks])"
      ]
    },
    {
      "cell_type": "code",
      "execution_count": null,
      "metadata": {
        "colab": {
          "background_save": true,
          "base_uri": "https://localhost:8080/"
        },
        "id": "HJBboZnUx7F6",
        "outputId": "f3798a31-1d51-4bdb-a55f-c6c09bd8158b"
      },
      "outputs": [
        {
          "output_type": "stream",
          "name": "stdout",
          "text": [
            "\n",
            "======Menu=====\n",
            "[1] Show Data\n",
            "[2] Insert Data\n",
            "[3] Edit Data\n",
            "[4] Delete Data\n",
            "[5] Exit\n"
          ]
        }
      ],
      "source": [
        "#fungsi_ShowMenu\n",
        "def show_menu():\n",
        "  print (\"\\n======Menu=====\")\n",
        "  print (\"[1] Show Data\")\n",
        "  print (\"[2] Insert Data\")\n",
        "  print (\"[3] Edit Data\")\n",
        "  print (\"[4] Delete Data\")\n",
        "  print (\"[5] Exit\")\n",
        "  menu = int(input(\"Pilih Menu : \"))\n",
        "  print(\"\\n\")\n",
        "  if menu == 1 :\n",
        "    show_data()\n",
        "  elif menu == 2:\n",
        "    insert_data()\n",
        "  elif menu == 3:\n",
        "    edit_data()\n",
        "  elif menu == 4:\n",
        "    delete_data()\n",
        "  elif menu == 5:\n",
        "    exit()\n",
        "  else:\n",
        "    print (\"Input yang Anda masukan salah\")\n",
        "\n",
        "if __name__ == \"__main__\":\n",
        "    while(True):\n",
        "      show_menu()\n"
      ]
    },
    {
      "cell_type": "code",
      "execution_count": null,
      "metadata": {
        "id": "9f751iKcC1AU"
      },
      "outputs": [],
      "source": []
    }
  ],
  "metadata": {
    "colab": {
      "provenance": [],
      "authorship_tag": "ABX9TyOTUHc/di9F/1xytv9YCQdr",
      "include_colab_link": true
    },
    "kernelspec": {
      "display_name": "Python 3",
      "name": "python3"
    },
    "language_info": {
      "name": "python"
    }
  },
  "nbformat": 4,
  "nbformat_minor": 0
}