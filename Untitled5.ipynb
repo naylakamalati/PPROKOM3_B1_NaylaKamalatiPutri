{
  "nbformat": 4,
  "nbformat_minor": 0,
  "metadata": {
    "colab": {
      "provenance": [],
      "authorship_tag": "ABX9TyPJ2Z5fVz9JIRZpCzYnJ+6K",
      "include_colab_link": true
    },
    "kernelspec": {
      "name": "python3",
      "display_name": "Python 3"
    },
    "language_info": {
      "name": "python"
    }
  },
  "cells": [
    {
      "cell_type": "markdown",
      "metadata": {
        "id": "view-in-github",
        "colab_type": "text"
      },
      "source": [
        "<a href=\"https://colab.research.google.com/github/naylakamalati/PPROKOM3_B1_NaylaKamalatiPutri/blob/main/Untitled5.ipynb\" target=\"_parent\"><img src=\"https://colab.research.google.com/assets/colab-badge.svg\" alt=\"Open In Colab\"/></a>"
      ]
    },
    {
      "cell_type": "code",
      "execution_count": null,
      "metadata": {
        "colab": {
          "base_uri": "https://localhost:8080/"
        },
        "id": "DCfENiympjsf",
        "outputId": "16ccdacb-b004-493e-c683-9deed0cb1c6a"
      },
      "outputs": [
        {
          "output_type": "stream",
          "name": "stdout",
          "text": [
            "dict['Name']: Zara\n",
            "dict['Age']: 7\n"
          ]
        }
      ],
      "source": [
        "dict = {'Name': 'Zara', 'Age': 7, 'Class': 'First'}\n",
        "print(\"dict['Name']:\", dict['Name'])\n",
        "print(\"dict['Age']:\", dict['Age'])"
      ]
    },
    {
      "cell_type": "code",
      "source": [
        "student = {\n",
        "\"nama\" : \"faqih\",\n",
        "\"umur\" : 26,\n",
        "\"tinggi\" : 177.6\n",
        "}\n",
        "print(student)\n",
        "student[\"hobi\"]=\"coding\""
      ],
      "metadata": {
        "colab": {
          "base_uri": "https://localhost:8080/"
        },
        "id": "Vreu4-PQqSnp",
        "outputId": "aed52902-73d1-41f7-d045-b261574f71f1"
      },
      "execution_count": null,
      "outputs": [
        {
          "output_type": "stream",
          "name": "stdout",
          "text": [
            "{'nama': 'faqih', 'umur': 26, 'tinggi': 177.6}\n"
          ]
        }
      ]
    },
    {
      "cell_type": "code",
      "source": [
        "student = {\n",
        "\"nama\" : \"faqih\",\n",
        "\"umur\" : 26,\n",
        "\"tinggi\" : 177.6\n",
        "}\n",
        "print(student)\n",
        "student.update({\"hobi\" : \"coding\"})\n",
        "print(student)"
      ],
      "metadata": {
        "colab": {
          "base_uri": "https://localhost:8080/"
        },
        "id": "1WSMTNLBrBgY",
        "outputId": "36a5fa99-2360-4f34-edaf-8d6789cfb70b"
      },
      "execution_count": null,
      "outputs": [
        {
          "output_type": "stream",
          "name": "stdout",
          "text": [
            "{'nama': 'faqih', 'umur': 26, 'tinggi': 177.6}\n",
            "{'nama': 'faqih', 'umur': 26, 'tinggi': 177.6, 'hobi': 'coding'}\n"
          ]
        }
      ]
    },
    {
      "cell_type": "code",
      "source": [
        "dict = {'Name': 'Zara', 'Age': 7, 'Class': 'First'}\n",
        "dict['Age'] = 8;\n",
        "dict['School'] = \"DPS School\"\n",
        "print(\"dict['Age']:\", dict['Age'])\n",
        "print(\"dict['School']:\", dict['School'])"
      ],
      "metadata": {
        "colab": {
          "base_uri": "https://localhost:8080/"
        },
        "id": "ULk3eGdH7oNa",
        "outputId": "dc871306-23fa-480b-d42b-21d0beba683f"
      },
      "execution_count": null,
      "outputs": [
        {
          "output_type": "stream",
          "name": "stdout",
          "text": [
            "dict['Age']: 8\n",
            "dict['School']: DPS School\n"
          ]
        }
      ]
    },
    {
      "cell_type": "code",
      "source": [
        "student = {\n",
        "\"nama\" : \"faqih\",\n",
        "\"umur\" : 26,\n",
        "\"tinggi\" : 177.6\n",
        "}\n",
        "print(student)\n",
        "student[\"nama\"] = \"darmawan\"\n",
        "print(student)"
      ],
      "metadata": {
        "colab": {
          "base_uri": "https://localhost:8080/"
        },
        "id": "5HZF_QVR8bwd",
        "outputId": "0c5f4fd7-d967-4953-ff84-82a188152f9c"
      },
      "execution_count": null,
      "outputs": [
        {
          "output_type": "stream",
          "name": "stdout",
          "text": [
            "{'nama': 'faqih', 'umur': 26, 'tinggi': 177.6}\n",
            "{'nama': 'darmawan', 'umur': 26, 'tinggi': 177.6}\n"
          ]
        }
      ]
    },
    {
      "cell_type": "code",
      "source": [
        "dict ={'Name': 'Zara', 'Age': 7, 'Class': 'First'}\n",
        "del dict['Name']\n",
        "dict.clear()\n",
        "del dict\n",
        "print(\"dict['Age']:\", dict['Age'])\n",
        "print(\"dict['School']:\", dict['School'])"
      ],
      "metadata": {
        "colab": {
          "base_uri": "https://localhost:8080/"
        },
        "id": "rjZiO1kg8623",
        "outputId": "46f26cb2-6182-4f8d-ebae-59685a194cff"
      },
      "execution_count": null,
      "outputs": [
        {
          "output_type": "stream",
          "name": "stdout",
          "text": [
            "dict['Age']: dict['Age']\n",
            "dict['School']: dict['School']\n"
          ]
        }
      ]
    },
    {
      "cell_type": "code",
      "source": [
        "student = {\n",
        "\"nama\" : \"faqih\",\n",
        "\"umur\" : 26,\n",
        "\"tinggi\" : 177.6\n",
        "}\n",
        "print(student)\n",
        "student.pop(\"umur\")\n",
        "print(student)"
      ],
      "metadata": {
        "colab": {
          "base_uri": "https://localhost:8080/"
        },
        "id": "rGgbYrqx9rcK",
        "outputId": "7bc67963-37b2-4faa-ec46-5fc8b54fdacf"
      },
      "execution_count": null,
      "outputs": [
        {
          "output_type": "stream",
          "name": "stdout",
          "text": [
            "{'nama': 'faqih', 'umur': 26, 'tinggi': 177.6}\n",
            "{'nama': 'faqih', 'tinggi': 177.6}\n"
          ]
        }
      ]
    },
    {
      "cell_type": "code",
      "source": [
        "A = \"PEMROGRAMAN python\"\n",
        "print(len(A.split()))"
      ],
      "metadata": {
        "id": "RVYYusgP-TJD",
        "colab": {
          "base_uri": "https://localhost:8080/"
        },
        "outputId": "3ed731f2-1c53-4587-8c97-c3ca59948c6c"
      },
      "execution_count": null,
      "outputs": [
        {
          "output_type": "stream",
          "name": "stdout",
          "text": [
            "2\n"
          ]
        }
      ]
    },
    {
      "cell_type": "code",
      "source": [
        "for i in range(2, 11, 2):\n",
        "  print(i, end=\" \")"
      ],
      "metadata": {
        "colab": {
          "base_uri": "https://localhost:8080/"
        },
        "id": "pA5GvKrqlg0N",
        "outputId": "9859ea74-39de-47b9-9b1a-54218fdd8db3"
      },
      "execution_count": null,
      "outputs": [
        {
          "output_type": "stream",
          "name": "stdout",
          "text": [
            "2 4 6 8 10 "
          ]
        }
      ]
    },
    {
      "cell_type": "code",
      "source": [
        "data1 = {'a':1, 'b':2}\n",
        "data2 = {'b':3, 'c':4}\n",
        "data1.update(data2)\n",
        "print(data1)"
      ],
      "metadata": {
        "colab": {
          "base_uri": "https://localhost:8080/"
        },
        "id": "GAbd7GgGmqhN",
        "outputId": "37e2929d-df12-4152-b9b0-4cafae6f79e6"
      },
      "execution_count": null,
      "outputs": [
        {
          "output_type": "stream",
          "name": "stdout",
          "text": [
            "{'a': 1, 'b': 3, 'c': 4}\n"
          ]
        }
      ]
    },
    {
      "cell_type": "code",
      "source": [
        "for i in range(5):\n",
        "  print(i)"
      ],
      "metadata": {
        "colab": {
          "base_uri": "https://localhost:8080/"
        },
        "id": "wSkA5XmJnITs",
        "outputId": "aed6d2c5-40c0-4ee9-f35a-c476dc9b2217"
      },
      "execution_count": null,
      "outputs": [
        {
          "output_type": "stream",
          "name": "stdout",
          "text": [
            "0\n",
            "1\n",
            "2\n",
            "3\n",
            "4\n"
          ]
        }
      ]
    },
    {
      "cell_type": "code",
      "source": [
        "x = 10\n",
        "if x > 5:\n",
        "  print(\"Lebih besar dari lima\")"
      ],
      "metadata": {
        "colab": {
          "base_uri": "https://localhost:8080/"
        },
        "id": "CRn-rqs_nSWk",
        "outputId": "48495170-fbd1-4726-e597-bbb24e0f5ae3"
      },
      "execution_count": 1,
      "outputs": [
        {
          "output_type": "stream",
          "name": "stdout",
          "text": [
            "Lebih besar dari lima\n"
          ]
        }
      ]
    },
    {
      "cell_type": "code",
      "source": [
        "x = 10\n",
        "y = 5\n",
        "z = x / y\n",
        "print(z)"
      ],
      "metadata": {
        "colab": {
          "base_uri": "https://localhost:8080/"
        },
        "id": "H2JjLx_wnleq",
        "outputId": "f259d86e-a9a4-4767-8d49-2bb055648f2a"
      },
      "execution_count": 5,
      "outputs": [
        {
          "output_type": "stream",
          "name": "stdout",
          "text": [
            "2.0\n"
          ]
        }
      ]
    },
    {
      "cell_type": "code",
      "source": [
        "x = int(input(\"batasan: \"))\n",
        "for i in range(1, x + 1, 2):\n",
        "  print(i)"
      ],
      "metadata": {
        "colab": {
          "base_uri": "https://localhost:8080/"
        },
        "id": "b5wAGl8CoBJt",
        "outputId": "2c12623f-21a0-46c2-bfa4-94006064721b"
      },
      "execution_count": null,
      "outputs": [
        {
          "output_type": "stream",
          "name": "stdout",
          "text": [
            "batasan: 5\n",
            "1\n",
            "3\n",
            "5\n"
          ]
        }
      ]
    }
  ]
}